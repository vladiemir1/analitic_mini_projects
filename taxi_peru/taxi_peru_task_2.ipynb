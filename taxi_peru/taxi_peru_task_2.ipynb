{
 "cells": [
  {
   "cell_type": "code",
   "execution_count": 1,
   "id": "bf56616c-4fe9-4150-817f-47612180637c",
   "metadata": {},
   "outputs": [],
   "source": [
    "import pandas as pd \n",
    "import matplotlib as plt\n",
    "import seaborn as sns \n",
    "%matplotlib inline"
   ]
  },
  {
   "cell_type": "code",
   "execution_count": 2,
   "id": "605614f2-03ac-43c2-9baa-5bc440ec5265",
   "metadata": {},
   "outputs": [],
   "source": [
    "taxi = pd.read_csv(r\"C:\\Users\\Владимир\\Desktop\\lesson_3\\taxi.csv\", sep = ';', encoding = 'windows-1251', parse_dates = ['end_at','start_at','arrived_at'])\n"
   ]
  },
  {
   "cell_type": "code",
   "execution_count": 6,
   "id": "07d1291b-121e-4e4e-97c9-2da409ec6b13",
   "metadata": {},
   "outputs": [
    {
     "name": "stderr",
     "output_type": "stream",
     "text": [
      "C:\\Users\\Владимир\\AppData\\Local\\Temp\\ipykernel_17580\\2297780847.py:3: FutureWarning: Series.__getitem__ treating keys as positions is deprecated. In a future version, integer keys will always be treated as labels (consistent with DataFrame behavior). To access a value by position, use `ser.iloc[pos]`\n",
      "  round(mpp2[0] * 100,0)\n"
     ]
    },
    {
     "data": {
      "text/plain": [
       "np.float64(42.0)"
      ]
     },
     "execution_count": 6,
     "metadata": {},
     "output_type": "execute_result"
    }
   ],
   "source": [
    "# mpp1 = round((taxi['source'].value_counts()[0] / taxi.source.shape[0]) * 100 ,0 )\n",
    "mpp2 = taxi.source.value_counts(normalize = True)\n",
    "round(mpp2[0] * 100,0)"
   ]
  },
  {
   "cell_type": "code",
   "execution_count": 23,
   "id": "1482f899-e654-4152-868a-123d97ea7220",
   "metadata": {},
   "outputs": [],
   "source": [
    "driver_score_counts = taxi\\\n",
    "    .driver_score\\\n",
    "    .value_counts(normalize = True)\\\n",
    "    .mul(100).round(2)\\\n",
    "    .reset_index()\\\n",
    "    .rename(columns = {'proportion': 'percentage'})\\\n",
    "    .sort_values(by = 'driver_score', ascending=False)\n"
   ]
  },
  {
   "cell_type": "code",
   "execution_count": 27,
   "id": "46783181-a1d9-4f01-b282-4d35a897ce20",
   "metadata": {},
   "outputs": [
    {
     "data": {
      "text/html": [
       "<div>\n",
       "<style scoped>\n",
       "    .dataframe tbody tr th:only-of-type {\n",
       "        vertical-align: middle;\n",
       "    }\n",
       "\n",
       "    .dataframe tbody tr th {\n",
       "        vertical-align: top;\n",
       "    }\n",
       "\n",
       "    .dataframe thead th {\n",
       "        text-align: right;\n",
       "    }\n",
       "</style>\n",
       "<table border=\"1\" class=\"dataframe\">\n",
       "  <thead>\n",
       "    <tr style=\"text-align: right;\">\n",
       "      <th></th>\n",
       "      <th>driver_score</th>\n",
       "      <th>percentage</th>\n",
       "    </tr>\n",
       "  </thead>\n",
       "  <tbody>\n",
       "    <tr>\n",
       "      <th>0</th>\n",
       "      <td>5.0</td>\n",
       "      <td>58.81</td>\n",
       "    </tr>\n",
       "    <tr>\n",
       "      <th>1</th>\n",
       "      <td>4.0</td>\n",
       "      <td>21.88</td>\n",
       "    </tr>\n",
       "    <tr>\n",
       "      <th>3</th>\n",
       "      <td>3.0</td>\n",
       "      <td>2.97</td>\n",
       "    </tr>\n",
       "    <tr>\n",
       "      <th>5</th>\n",
       "      <td>2.0</td>\n",
       "      <td>0.81</td>\n",
       "    </tr>\n",
       "    <tr>\n",
       "      <th>4</th>\n",
       "      <td>1.0</td>\n",
       "      <td>1.23</td>\n",
       "    </tr>\n",
       "    <tr>\n",
       "      <th>2</th>\n",
       "      <td>0.0</td>\n",
       "      <td>14.30</td>\n",
       "    </tr>\n",
       "  </tbody>\n",
       "</table>\n",
       "</div>"
      ],
      "text/plain": [
       "   driver_score  percentage\n",
       "0           5.0       58.81\n",
       "1           4.0       21.88\n",
       "3           3.0        2.97\n",
       "5           2.0        0.81\n",
       "4           1.0        1.23\n",
       "2           0.0       14.30"
      ]
     },
     "execution_count": 27,
     "metadata": {},
     "output_type": "execute_result"
    }
   ],
   "source": [
    "driver_score_counts"
   ]
  },
  {
   "cell_type": "code",
   "execution_count": 33,
   "id": "409ebea1-0eaa-4824-af28-0452fec506f1",
   "metadata": {},
   "outputs": [
    {
     "data": {
      "image/png": "[encoded data removed]",
      "text/plain": [
       "<Figure size 640x480 with 1 Axes>"
      ]
     },
     "metadata": {},
     "output_type": "display_data"
    }
   ],
   "source": [
    "ax = sns.barplot(x='driver_score', y='percentage', data=driver_score_counts, color='blue', alpha=0.5)\n",
    "ax.set(xlabel='Driver score', ylabel='Percentage')\n",
    "sns.despine()  # убрать часть рамки графика\n"
   ]
  },
  {
   "cell_type": "code",
   "execution_count": 42,
   "id": "d3f19746-8fa3-401d-966c-9bb22e67f221",
   "metadata": {},
   "outputs": [],
   "source": [
    "rider_score_counts = taxi.rider_score\\\n",
    "    .value_counts(normalize = True)\\\n",
    "    .mul(100).round(2)\\\n",
    "    .reset_index()\\\n",
    "    .rename(columns = {'proportion' : 'percentage'})\\\n",
    "    .sort_values(by = 'rider_score', ascending = False)\n",
    "\n"
   ]
  },
  {
   "cell_type": "code",
   "execution_count": 47,
   "id": "02f09c06-ca4f-4b2b-91b1-0f725f69d3dc",
   "metadata": {},
   "outputs": [
    {
     "data": {
      "image/png": "[encoded data removed]",
      "text/plain": [
       "<Figure size 640x480 with 1 Axes>"
      ]
     },
     "metadata": {},
     "output_type": "display_data"
    }
   ],
   "source": [
    "graf = sns.barplot(x = 'rider_score', y = 'percentage', data = rider_score_counts, alpha = 0.5, color = 'red')\n",
    "graf.set(xlabel = 'Rider score',ylabel='Percentage')\n",
    "sns.despine()\n"
   ]
  },
  {
   "cell_type": "code",
   "execution_count": null,
   "id": "d1f780a3-de80-4be8-bb6a-72ab3131b983",
   "metadata": {},
   "outputs": [],
   "source": []
  }
 ],
 "metadata": {
  "kernelspec": {
   "display_name": "Python 3 (ipykernel)",
   "language": "python",
   "name": "python3"
  },
  "language_info": {
   "codemirror_mode": {
    "name": "ipython",
    "version": 3
   },
   "file_extension": ".py",
   "mimetype": "text/x-python",
   "name": "python",
   "nbconvert_exporter": "python",
   "pygments_lexer": "ipython3",
   "version": "3.13.2"
  }
 },
 "nbformat": 4,
 "nbformat_minor": 5
}
